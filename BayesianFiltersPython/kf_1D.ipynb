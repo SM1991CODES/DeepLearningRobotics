{
 "cells": [
  {
   "cell_type": "markdown",
   "metadata": {},
   "source": [
    "Described a 1D Kalman filter operations for position tracking\n",
    "\n",
    "- Consider an object moving with a certain velocity v\n",
    "- We have some initial belief of where the object is and we get periodic measurements about position.\n",
    "- We wan to estimate true position\n",
    "- We can model out belief as a Gaussian, e.g., we believe object is at 10m +- 4m -> N(10, 2)\n",
    "- Similarly the velocity and measurements can also be modeled as a Gaussian since it is also noisy\n"
   ]
  },
  {
   "cell_type": "code",
   "execution_count": 3,
   "metadata": {},
   "outputs": [],
   "source": [
    "import matplotlib.pyplot as plt\n",
    "\n",
    "class Gaussians(object):\n",
    "    \"\"\"\n",
    "    Implements a Gaussian random variable\n",
    "    \"\"\"\n",
    "    def __init__(self, mean, var) -> None:\n",
    "        \"\"\"\n",
    "        Sets up the gaussian variable\n",
    "        \"\"\"\n",
    "        self.mean = mean\n",
    "        self.var = var\n",
    "\n",
    "def predict(pos:Gaussians, vel:Gaussians):\n",
    "    \"\"\"\n",
    "    Function predicts next state given a previous state and velocity as gaussian variables\n",
    "    \"\"\"\n",
    "\n",
    "    mean = pos.mean + vel.mean\n",
    "    var = pos.var + vel.var\n",
    "    result = Gaussians(mean, var)\n",
    "    return result\n",
    "\n",
    "\n"
   ]
  },
  {
   "cell_type": "code",
   "execution_count": 4,
   "metadata": {},
   "outputs": [
    {
     "data": {
      "application/vnd.jupyter.widget-view+json": {
       "model_id": "3e659e2ca6b649c2bdb962d15f0b0e2f",
       "version_major": 2,
       "version_minor": 0
      },
      "text/plain": [
       "interactive(children=(IntSlider(value=55, description='pos_mu', min=10), IntSlider(value=52, description='pos_…"
      ]
     },
     "metadata": {},
     "output_type": "display_data"
    }
   ],
   "source": [
    "from ipywidgets import interact, interactive, fixed, interact_manual\n",
    "import ipywidgets as widgets\n",
    "\n",
    "@interact(pos_mu=(10, 100), pos_var=(4, 100), vel_mu=(5, 25), vel_var=(4, 100))\n",
    "def run_predict(pos_mu, pos_var, vel_mu, vel_var):\n",
    "    \"\"\"\n",
    "    Runs the Gaussian prediction demo\n",
    "    \"\"\"\n",
    "    pos = Gaussians(pos_mu, pos_var)\n",
    "    vel = Gaussians(vel_mu, vel_var)\n",
    "    res = predict(pos, vel)\n",
    "    print(\"result -> {0}, {1}\".format(res.mean, res.var))\n",
    "\n",
    "    "
   ]
  }
 ],
 "metadata": {
  "kernelspec": {
   "display_name": "argoenv",
   "language": "python",
   "name": "python3"
  },
  "language_info": {
   "codemirror_mode": {
    "name": "ipython",
    "version": 3
   },
   "file_extension": ".py",
   "mimetype": "text/x-python",
   "name": "python",
   "nbconvert_exporter": "python",
   "pygments_lexer": "ipython3",
   "version": "3.8.10"
  },
  "orig_nbformat": 4
 },
 "nbformat": 4,
 "nbformat_minor": 2
}
